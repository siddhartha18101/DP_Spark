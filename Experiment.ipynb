{
 "cells": [
  {
   "cell_type": "code",
   "execution_count": 1,
   "metadata": {},
   "outputs": [],
   "source": [
    "import numpy as np\n",
    "import pyspark\n",
    "from pyspark.sql import SparkSession\n",
    "from pyspark.sql.functions import *\n",
    "from pyspark.sql.types import *"
   ]
  },
  {
   "cell_type": "code",
   "execution_count": 2,
   "metadata": {},
   "outputs": [],
   "source": [
    "import pandas as pd"
   ]
  },
  {
   "cell_type": "code",
   "execution_count": 3,
   "metadata": {},
   "outputs": [],
   "source": [
    "data = pd.read_csv('india-districts-census-2011.csv')"
   ]
  },
  {
   "cell_type": "code",
   "execution_count": 4,
   "metadata": {},
   "outputs": [
    {
     "data": {
      "text/html": [
       "<div>\n",
       "<style scoped>\n",
       "    .dataframe tbody tr th:only-of-type {\n",
       "        vertical-align: middle;\n",
       "    }\n",
       "\n",
       "    .dataframe tbody tr th {\n",
       "        vertical-align: top;\n",
       "    }\n",
       "\n",
       "    .dataframe thead th {\n",
       "        text-align: right;\n",
       "    }\n",
       "</style>\n",
       "<table border=\"1\" class=\"dataframe\">\n",
       "  <thead>\n",
       "    <tr style=\"text-align: right;\">\n",
       "      <th></th>\n",
       "      <th>District code</th>\n",
       "      <th>State name</th>\n",
       "      <th>District name</th>\n",
       "      <th>Population</th>\n",
       "      <th>Male</th>\n",
       "      <th>Female</th>\n",
       "      <th>Literate</th>\n",
       "      <th>Male_Literate</th>\n",
       "      <th>Female_Literate</th>\n",
       "      <th>SC</th>\n",
       "      <th>...</th>\n",
       "      <th>Power_Parity_Rs_90000_150000</th>\n",
       "      <th>Power_Parity_Rs_45000_150000</th>\n",
       "      <th>Power_Parity_Rs_150000_240000</th>\n",
       "      <th>Power_Parity_Rs_240000_330000</th>\n",
       "      <th>Power_Parity_Rs_150000_330000</th>\n",
       "      <th>Power_Parity_Rs_330000_425000</th>\n",
       "      <th>Power_Parity_Rs_425000_545000</th>\n",
       "      <th>Power_Parity_Rs_330000_545000</th>\n",
       "      <th>Power_Parity_Above_Rs_545000</th>\n",
       "      <th>Total_Power_Parity</th>\n",
       "    </tr>\n",
       "  </thead>\n",
       "  <tbody>\n",
       "    <tr>\n",
       "      <th>0</th>\n",
       "      <td>1</td>\n",
       "      <td>JAMMU AND KASHMIR</td>\n",
       "      <td>Kupwara</td>\n",
       "      <td>870354</td>\n",
       "      <td>474190</td>\n",
       "      <td>396164</td>\n",
       "      <td>439654</td>\n",
       "      <td>282823</td>\n",
       "      <td>156831</td>\n",
       "      <td>1048</td>\n",
       "      <td>...</td>\n",
       "      <td>94</td>\n",
       "      <td>588</td>\n",
       "      <td>71</td>\n",
       "      <td>101</td>\n",
       "      <td>172</td>\n",
       "      <td>74</td>\n",
       "      <td>10</td>\n",
       "      <td>84</td>\n",
       "      <td>15</td>\n",
       "      <td>1119</td>\n",
       "    </tr>\n",
       "    <tr>\n",
       "      <th>1</th>\n",
       "      <td>2</td>\n",
       "      <td>JAMMU AND KASHMIR</td>\n",
       "      <td>Badgam</td>\n",
       "      <td>753745</td>\n",
       "      <td>398041</td>\n",
       "      <td>355704</td>\n",
       "      <td>335649</td>\n",
       "      <td>207741</td>\n",
       "      <td>127908</td>\n",
       "      <td>368</td>\n",
       "      <td>...</td>\n",
       "      <td>126</td>\n",
       "      <td>562</td>\n",
       "      <td>72</td>\n",
       "      <td>89</td>\n",
       "      <td>161</td>\n",
       "      <td>96</td>\n",
       "      <td>28</td>\n",
       "      <td>124</td>\n",
       "      <td>18</td>\n",
       "      <td>1066</td>\n",
       "    </tr>\n",
       "    <tr>\n",
       "      <th>2</th>\n",
       "      <td>3</td>\n",
       "      <td>JAMMU AND KASHMIR</td>\n",
       "      <td>Leh(Ladakh)</td>\n",
       "      <td>133487</td>\n",
       "      <td>78971</td>\n",
       "      <td>54516</td>\n",
       "      <td>93770</td>\n",
       "      <td>62834</td>\n",
       "      <td>30936</td>\n",
       "      <td>488</td>\n",
       "      <td>...</td>\n",
       "      <td>46</td>\n",
       "      <td>122</td>\n",
       "      <td>15</td>\n",
       "      <td>22</td>\n",
       "      <td>37</td>\n",
       "      <td>20</td>\n",
       "      <td>14</td>\n",
       "      <td>34</td>\n",
       "      <td>17</td>\n",
       "      <td>242</td>\n",
       "    </tr>\n",
       "    <tr>\n",
       "      <th>3</th>\n",
       "      <td>4</td>\n",
       "      <td>JAMMU AND KASHMIR</td>\n",
       "      <td>Kargil</td>\n",
       "      <td>140802</td>\n",
       "      <td>77785</td>\n",
       "      <td>63017</td>\n",
       "      <td>86236</td>\n",
       "      <td>56301</td>\n",
       "      <td>29935</td>\n",
       "      <td>18</td>\n",
       "      <td>...</td>\n",
       "      <td>27</td>\n",
       "      <td>114</td>\n",
       "      <td>12</td>\n",
       "      <td>18</td>\n",
       "      <td>30</td>\n",
       "      <td>19</td>\n",
       "      <td>3</td>\n",
       "      <td>22</td>\n",
       "      <td>7</td>\n",
       "      <td>214</td>\n",
       "    </tr>\n",
       "    <tr>\n",
       "      <th>4</th>\n",
       "      <td>5</td>\n",
       "      <td>JAMMU AND KASHMIR</td>\n",
       "      <td>Punch</td>\n",
       "      <td>476835</td>\n",
       "      <td>251899</td>\n",
       "      <td>224936</td>\n",
       "      <td>261724</td>\n",
       "      <td>163333</td>\n",
       "      <td>98391</td>\n",
       "      <td>556</td>\n",
       "      <td>...</td>\n",
       "      <td>78</td>\n",
       "      <td>346</td>\n",
       "      <td>35</td>\n",
       "      <td>50</td>\n",
       "      <td>85</td>\n",
       "      <td>59</td>\n",
       "      <td>8</td>\n",
       "      <td>67</td>\n",
       "      <td>12</td>\n",
       "      <td>629</td>\n",
       "    </tr>\n",
       "  </tbody>\n",
       "</table>\n",
       "<p>5 rows × 118 columns</p>\n",
       "</div>"
      ],
      "text/plain": [
       "   District code         State name District name  Population    Male  Female  \\\n",
       "0              1  JAMMU AND KASHMIR       Kupwara      870354  474190  396164   \n",
       "1              2  JAMMU AND KASHMIR        Badgam      753745  398041  355704   \n",
       "2              3  JAMMU AND KASHMIR   Leh(Ladakh)      133487   78971   54516   \n",
       "3              4  JAMMU AND KASHMIR        Kargil      140802   77785   63017   \n",
       "4              5  JAMMU AND KASHMIR         Punch      476835  251899  224936   \n",
       "\n",
       "   Literate  Male_Literate  Female_Literate    SC  ...  \\\n",
       "0    439654         282823           156831  1048  ...   \n",
       "1    335649         207741           127908   368  ...   \n",
       "2     93770          62834            30936   488  ...   \n",
       "3     86236          56301            29935    18  ...   \n",
       "4    261724         163333            98391   556  ...   \n",
       "\n",
       "   Power_Parity_Rs_90000_150000  Power_Parity_Rs_45000_150000  \\\n",
       "0                            94                           588   \n",
       "1                           126                           562   \n",
       "2                            46                           122   \n",
       "3                            27                           114   \n",
       "4                            78                           346   \n",
       "\n",
       "   Power_Parity_Rs_150000_240000  Power_Parity_Rs_240000_330000  \\\n",
       "0                             71                            101   \n",
       "1                             72                             89   \n",
       "2                             15                             22   \n",
       "3                             12                             18   \n",
       "4                             35                             50   \n",
       "\n",
       "   Power_Parity_Rs_150000_330000  Power_Parity_Rs_330000_425000  \\\n",
       "0                            172                             74   \n",
       "1                            161                             96   \n",
       "2                             37                             20   \n",
       "3                             30                             19   \n",
       "4                             85                             59   \n",
       "\n",
       "   Power_Parity_Rs_425000_545000  Power_Parity_Rs_330000_545000  \\\n",
       "0                             10                             84   \n",
       "1                             28                            124   \n",
       "2                             14                             34   \n",
       "3                              3                             22   \n",
       "4                              8                             67   \n",
       "\n",
       "   Power_Parity_Above_Rs_545000  Total_Power_Parity  \n",
       "0                            15                1119  \n",
       "1                            18                1066  \n",
       "2                            17                 242  \n",
       "3                             7                 214  \n",
       "4                            12                 629  \n",
       "\n",
       "[5 rows x 118 columns]"
      ]
     },
     "execution_count": 4,
     "metadata": {},
     "output_type": "execute_result"
    }
   ],
   "source": [
    "data.head()"
   ]
  },
  {
   "cell_type": "code",
   "execution_count": 5,
   "metadata": {},
   "outputs": [],
   "source": [
    "spark = SparkSession.builder.getOrCreate()"
   ]
  },
  {
   "cell_type": "code",
   "execution_count": 157,
   "metadata": {},
   "outputs": [],
   "source": [
    "df = spark.read.format('csv').options(header='true').load('india-districts-census-2011.csv')"
   ]
  },
  {
   "cell_type": "code",
   "execution_count": 158,
   "metadata": {},
   "outputs": [],
   "source": [
    "dfcopy = df\n",
    "df = df.drop('District code',\n",
    " 'State name',\n",
    " 'District name',)"
   ]
  },
  {
   "cell_type": "code",
   "execution_count": 159,
   "metadata": {},
   "outputs": [],
   "source": [
    "def AddNoise(x, epsilon=0.1):\n",
    "    x = int(x) +  np.random.laplace(0,1.0/epsilon)\n",
    "    return x\n",
    "# spark.udf.register(\"DPFunc\", AddNoise)\n",
    "dp_udf = udf(AddNoise)\n"
   ]
  },
  {
   "cell_type": "code",
   "execution_count": 160,
   "metadata": {},
   "outputs": [],
   "source": [
    "df.createOrReplaceTempView(\"table1\")\n",
    "df2 = spark.table('table1')\n"
   ]
  },
  {
   "cell_type": "code",
   "execution_count": 161,
   "metadata": {},
   "outputs": [],
   "source": [
    "for x in df.columns:\n",
    "    new = dp_udf(x)\n",
    "    df2 = df2.withColumn('private' + '_' + x , new)"
   ]
  },
  {
   "cell_type": "code",
   "execution_count": 142,
   "metadata": {},
   "outputs": [],
   "source": [
    "# for x in df.columns:\n",
    "#     df2 = df2.drop(x)\n"
   ]
  },
  {
   "cell_type": "code",
   "execution_count": 143,
   "metadata": {},
   "outputs": [
    {
     "name": "stdout",
     "output_type": "stream",
     "text": [
      "+------------------+\n",
      "|private_Population|\n",
      "+------------------+\n",
      "| 870352.9694324688|\n",
      "| 753745.7354507284|\n",
      "| 133485.9050125315|\n",
      "| 140801.6507027879|\n",
      "| 476844.5456224697|\n",
      "| 642412.1916328594|\n",
      "| 616435.4818547099|\n",
      "|1008034.8569477376|\n",
      "| 392229.5908414299|\n",
      "|1236827.2509387345|\n",
      "| 297449.1312114642|\n",
      "| 560433.1146473289|\n",
      "|266212.75363782275|\n",
      "| 1078692.446590323|\n",
      "| 424479.9130073316|\n",
      "|409935.18395727646|\n",
      "| 283712.4339351125|\n",
      "|230695.27777065343|\n",
      "| 554986.7293893602|\n",
      "| 314662.3461715715|\n",
      "+------------------+\n",
      "only showing top 20 rows\n",
      "\n"
     ]
    }
   ],
   "source": [
    "df2.select('private_Population').show()"
   ]
  },
  {
   "cell_type": "code",
   "execution_count": 144,
   "metadata": {},
   "outputs": [
    {
     "data": {
      "text/plain": [
       "Column<'AddNoise(Total_Power_Parity)'>"
      ]
     },
     "execution_count": 144,
     "metadata": {},
     "output_type": "execute_result"
    }
   ],
   "source": [
    "new"
   ]
  },
  {
   "cell_type": "code",
   "execution_count": 145,
   "metadata": {},
   "outputs": [
    {
     "data": {
      "text/plain": [
       "['Population',\n",
       " 'Male',\n",
       " 'Female',\n",
       " 'Literate',\n",
       " 'Male_Literate',\n",
       " 'Female_Literate',\n",
       " 'SC',\n",
       " 'Male_SC',\n",
       " 'Female_SC',\n",
       " 'ST',\n",
       " 'Male_ST',\n",
       " 'Female_ST',\n",
       " 'Workers',\n",
       " 'Male_Workers',\n",
       " 'Female_Workers',\n",
       " 'Main_Workers',\n",
       " 'Marginal_Workers',\n",
       " 'Non_Workers',\n",
       " 'Cultivator_Workers',\n",
       " 'Agricultural_Workers',\n",
       " 'Household_Workers',\n",
       " 'Other_Workers',\n",
       " 'Hindus',\n",
       " 'Muslims',\n",
       " 'Christians',\n",
       " 'Sikhs',\n",
       " 'Buddhists',\n",
       " 'Jains',\n",
       " 'Others_Religions',\n",
       " 'Religion_Not_Stated',\n",
       " 'LPG_or_PNG_Households',\n",
       " 'Housholds_with_Electric_Lighting',\n",
       " 'Households_with_Internet',\n",
       " 'Households_with_Computer',\n",
       " 'Rural_Households',\n",
       " 'Urban_Households',\n",
       " 'Households',\n",
       " 'Below_Primary_Education',\n",
       " 'Primary_Education',\n",
       " 'Middle_Education',\n",
       " 'Secondary_Education',\n",
       " 'Higher_Education',\n",
       " 'Graduate_Education',\n",
       " 'Other_Education',\n",
       " 'Literate_Education',\n",
       " 'Illiterate_Education',\n",
       " 'Total_Education',\n",
       " 'Age_Group_0_29',\n",
       " 'Age_Group_30_49',\n",
       " 'Age_Group_50',\n",
       " 'Age not stated',\n",
       " 'Households_with_Bicycle',\n",
       " 'Households_with_Car_Jeep_Van',\n",
       " 'Households_with_Radio_Transistor',\n",
       " 'Households_with_Scooter_Motorcycle_Moped',\n",
       " 'Households_with_Telephone_Mobile_Phone_Landline_only',\n",
       " 'Households_with_Telephone_Mobile_Phone_Mobile_only',\n",
       " 'Households_with_TV_Computer_Laptop_Telephone_mobile_phone_and_Scooter_Car',\n",
       " 'Households_with_Television',\n",
       " 'Households_with_Telephone_Mobile_Phone',\n",
       " 'Households_with_Telephone_Mobile_Phone_Both',\n",
       " 'Condition_of_occupied_census_houses_Dilapidated_Households',\n",
       " 'Households_with_separate_kitchen_Cooking_inside_house',\n",
       " 'Having_bathing_facility_Total_Households',\n",
       " 'Having_latrine_facility_within_the_premises_Total_Households',\n",
       " 'Ownership_Owned_Households',\n",
       " 'Ownership_Rented_Households',\n",
       " 'Type_of_bathing_facility_Enclosure_without_roof_Households',\n",
       " 'Type_of_fuel_used_for_cooking_Any_other_Households',\n",
       " 'Type_of_latrine_facility_Pit_latrine_Households',\n",
       " 'Type_of_latrine_facility_Other_latrine_Households',\n",
       " 'Type_of_latrine_facility_Night_soil_disposed_into_open_drain_Households',\n",
       " 'Type_of_latrine_facility_Flush_pour_flush_latrine_connected_to_other_system_Households',\n",
       " 'Not_having_bathing_facility_within_the_premises_Total_Households',\n",
       " 'Not_having_latrine_facility_within_the_premises_Alternative_source_Open_Households',\n",
       " 'Main_source_of_drinking_water_Un_covered_well_Households',\n",
       " 'Main_source_of_drinking_water_Handpump_Tubewell_Borewell_Households',\n",
       " 'Main_source_of_drinking_water_Spring_Households',\n",
       " 'Main_source_of_drinking_water_River_Canal_Households',\n",
       " 'Main_source_of_drinking_water_Other_sources_Households',\n",
       " 'Main_source_of_drinking_water_Other_sources_Spring_River_Canal_Tank_Pond_Lake_Other_sources__Households',\n",
       " 'Location_of_drinking_water_source_Near_the_premises_Households',\n",
       " 'Location_of_drinking_water_source_Within_the_premises_Households',\n",
       " 'Main_source_of_drinking_water_Tank_Pond_Lake_Households',\n",
       " 'Main_source_of_drinking_water_Tapwater_Households',\n",
       " 'Main_source_of_drinking_water_Tubewell_Borehole_Households',\n",
       " 'Household_size_1_person_Households',\n",
       " 'Household_size_2_persons_Households',\n",
       " 'Household_size_1_to_2_persons',\n",
       " 'Household_size_3_persons_Households',\n",
       " 'Household_size_3_to_5_persons_Households',\n",
       " 'Household_size_4_persons_Households',\n",
       " 'Household_size_5_persons_Households',\n",
       " 'Household_size_6_8_persons_Households',\n",
       " 'Household_size_9_persons_and_above_Households',\n",
       " 'Location_of_drinking_water_source_Away_Households',\n",
       " 'Married_couples_1_Households',\n",
       " 'Married_couples_2_Households',\n",
       " 'Married_couples_3_Households',\n",
       " 'Married_couples_3_or_more_Households',\n",
       " 'Married_couples_4_Households',\n",
       " 'Married_couples_5__Households',\n",
       " 'Married_couples_None_Households',\n",
       " 'Power_Parity_Less_than_Rs_45000',\n",
       " 'Power_Parity_Rs_45000_90000',\n",
       " 'Power_Parity_Rs_90000_150000',\n",
       " 'Power_Parity_Rs_45000_150000',\n",
       " 'Power_Parity_Rs_150000_240000',\n",
       " 'Power_Parity_Rs_240000_330000',\n",
       " 'Power_Parity_Rs_150000_330000',\n",
       " 'Power_Parity_Rs_330000_425000',\n",
       " 'Power_Parity_Rs_425000_545000',\n",
       " 'Power_Parity_Rs_330000_545000',\n",
       " 'Power_Parity_Above_Rs_545000',\n",
       " 'Total_Power_Parity',\n",
       " 'private_Population',\n",
       " 'private_Male',\n",
       " 'private_Female',\n",
       " 'private_Literate',\n",
       " 'private_Male_Literate',\n",
       " 'private_Female_Literate',\n",
       " 'private_SC',\n",
       " 'private_Male_SC',\n",
       " 'private_Female_SC',\n",
       " 'private_ST',\n",
       " 'private_Male_ST',\n",
       " 'private_Female_ST',\n",
       " 'private_Workers',\n",
       " 'private_Male_Workers',\n",
       " 'private_Female_Workers',\n",
       " 'private_Main_Workers',\n",
       " 'private_Marginal_Workers',\n",
       " 'private_Non_Workers',\n",
       " 'private_Cultivator_Workers',\n",
       " 'private_Agricultural_Workers',\n",
       " 'private_Household_Workers',\n",
       " 'private_Other_Workers',\n",
       " 'private_Hindus',\n",
       " 'private_Muslims',\n",
       " 'private_Christians',\n",
       " 'private_Sikhs',\n",
       " 'private_Buddhists',\n",
       " 'private_Jains',\n",
       " 'private_Others_Religions',\n",
       " 'private_Religion_Not_Stated',\n",
       " 'private_LPG_or_PNG_Households',\n",
       " 'private_Housholds_with_Electric_Lighting',\n",
       " 'private_Households_with_Internet',\n",
       " 'private_Households_with_Computer',\n",
       " 'private_Rural_Households',\n",
       " 'private_Urban_Households',\n",
       " 'private_Households',\n",
       " 'private_Below_Primary_Education',\n",
       " 'private_Primary_Education',\n",
       " 'private_Middle_Education',\n",
       " 'private_Secondary_Education',\n",
       " 'private_Higher_Education',\n",
       " 'private_Graduate_Education',\n",
       " 'private_Other_Education',\n",
       " 'private_Literate_Education',\n",
       " 'private_Illiterate_Education',\n",
       " 'private_Total_Education',\n",
       " 'private_Age_Group_0_29',\n",
       " 'private_Age_Group_30_49',\n",
       " 'private_Age_Group_50',\n",
       " 'private_Age not stated',\n",
       " 'private_Households_with_Bicycle',\n",
       " 'private_Households_with_Car_Jeep_Van',\n",
       " 'private_Households_with_Radio_Transistor',\n",
       " 'private_Households_with_Scooter_Motorcycle_Moped',\n",
       " 'private_Households_with_Telephone_Mobile_Phone_Landline_only',\n",
       " 'private_Households_with_Telephone_Mobile_Phone_Mobile_only',\n",
       " 'private_Households_with_TV_Computer_Laptop_Telephone_mobile_phone_and_Scooter_Car',\n",
       " 'private_Households_with_Television',\n",
       " 'private_Households_with_Telephone_Mobile_Phone',\n",
       " 'private_Households_with_Telephone_Mobile_Phone_Both',\n",
       " 'private_Condition_of_occupied_census_houses_Dilapidated_Households',\n",
       " 'private_Households_with_separate_kitchen_Cooking_inside_house',\n",
       " 'private_Having_bathing_facility_Total_Households',\n",
       " 'private_Having_latrine_facility_within_the_premises_Total_Households',\n",
       " 'private_Ownership_Owned_Households',\n",
       " 'private_Ownership_Rented_Households',\n",
       " 'private_Type_of_bathing_facility_Enclosure_without_roof_Households',\n",
       " 'private_Type_of_fuel_used_for_cooking_Any_other_Households',\n",
       " 'private_Type_of_latrine_facility_Pit_latrine_Households',\n",
       " 'private_Type_of_latrine_facility_Other_latrine_Households',\n",
       " 'private_Type_of_latrine_facility_Night_soil_disposed_into_open_drain_Households',\n",
       " 'private_Type_of_latrine_facility_Flush_pour_flush_latrine_connected_to_other_system_Households',\n",
       " 'private_Not_having_bathing_facility_within_the_premises_Total_Households',\n",
       " 'private_Not_having_latrine_facility_within_the_premises_Alternative_source_Open_Households',\n",
       " 'private_Main_source_of_drinking_water_Un_covered_well_Households',\n",
       " 'private_Main_source_of_drinking_water_Handpump_Tubewell_Borewell_Households',\n",
       " 'private_Main_source_of_drinking_water_Spring_Households',\n",
       " 'private_Main_source_of_drinking_water_River_Canal_Households',\n",
       " 'private_Main_source_of_drinking_water_Other_sources_Households',\n",
       " 'private_Main_source_of_drinking_water_Other_sources_Spring_River_Canal_Tank_Pond_Lake_Other_sources__Households',\n",
       " 'private_Location_of_drinking_water_source_Near_the_premises_Households',\n",
       " 'private_Location_of_drinking_water_source_Within_the_premises_Households',\n",
       " 'private_Main_source_of_drinking_water_Tank_Pond_Lake_Households',\n",
       " 'private_Main_source_of_drinking_water_Tapwater_Households',\n",
       " 'private_Main_source_of_drinking_water_Tubewell_Borehole_Households',\n",
       " 'private_Household_size_1_person_Households',\n",
       " 'private_Household_size_2_persons_Households',\n",
       " 'private_Household_size_1_to_2_persons',\n",
       " 'private_Household_size_3_persons_Households',\n",
       " 'private_Household_size_3_to_5_persons_Households',\n",
       " 'private_Household_size_4_persons_Households',\n",
       " 'private_Household_size_5_persons_Households',\n",
       " 'private_Household_size_6_8_persons_Households',\n",
       " 'private_Household_size_9_persons_and_above_Households',\n",
       " 'private_Location_of_drinking_water_source_Away_Households',\n",
       " 'private_Married_couples_1_Households',\n",
       " 'private_Married_couples_2_Households',\n",
       " 'private_Married_couples_3_Households',\n",
       " 'private_Married_couples_3_or_more_Households',\n",
       " 'private_Married_couples_4_Households',\n",
       " 'private_Married_couples_5__Households',\n",
       " 'private_Married_couples_None_Households',\n",
       " 'private_Power_Parity_Less_than_Rs_45000',\n",
       " 'private_Power_Parity_Rs_45000_90000',\n",
       " 'private_Power_Parity_Rs_90000_150000',\n",
       " 'private_Power_Parity_Rs_45000_150000',\n",
       " 'private_Power_Parity_Rs_150000_240000',\n",
       " 'private_Power_Parity_Rs_240000_330000',\n",
       " 'private_Power_Parity_Rs_150000_330000',\n",
       " 'private_Power_Parity_Rs_330000_425000',\n",
       " 'private_Power_Parity_Rs_425000_545000',\n",
       " 'private_Power_Parity_Rs_330000_545000',\n",
       " 'private_Power_Parity_Above_Rs_545000',\n",
       " 'private_Total_Power_Parity']"
      ]
     },
     "execution_count": 145,
     "metadata": {},
     "output_type": "execute_result"
    }
   ],
   "source": [
    "df2.columns"
   ]
  },
  {
   "cell_type": "code",
   "execution_count": 162,
   "metadata": {},
   "outputs": [],
   "source": [
    "df2 = df2.toPandas()"
   ]
  },
  {
   "cell_type": "code",
   "execution_count": 147,
   "metadata": {},
   "outputs": [
    {
     "data": {
      "text/plain": [
       "pandas.core.frame.DataFrame"
      ]
     },
     "execution_count": 147,
     "metadata": {},
     "output_type": "execute_result"
    }
   ],
   "source": [
    "type(df2)"
   ]
  },
  {
   "cell_type": "code",
   "execution_count": 148,
   "metadata": {},
   "outputs": [
    {
     "name": "stdout",
     "output_type": "stream",
     "text": [
      "0      870354\n",
      "1      753745\n",
      "2      133487\n",
      "3      140802\n",
      "4      476835\n",
      "        ...  \n",
      "635     41816\n",
      "636    200222\n",
      "637     36842\n",
      "638    105597\n",
      "639    238142\n",
      "Name: Population, Length: 640, dtype: object 0       870355.3000068963\n",
      "1       753746.4951892527\n",
      "2      133486.41731283558\n",
      "3       140798.9764621543\n",
      "4       476830.9723559439\n",
      "              ...        \n",
      "635    41808.920609020766\n",
      "636    200219.42967370042\n",
      "637     36846.50224611079\n",
      "638    105597.54949689233\n",
      "639     238138.8975181333\n",
      "Name: private_Population, Length: 640, dtype: object\n"
     ]
    }
   ],
   "source": [
    "print(df2['Population'], df2['private_Population'])"
   ]
  },
  {
   "cell_type": "code",
   "execution_count": 149,
   "metadata": {},
   "outputs": [
    {
     "data": {
      "text/plain": [
       "1891961.351272822"
      ]
     },
     "execution_count": 149,
     "metadata": {},
     "output_type": "execute_result"
    }
   ],
   "source": [
    "np.mean(df2['private_Population'].astype(float))"
   ]
  },
  {
   "cell_type": "code",
   "execution_count": 150,
   "metadata": {},
   "outputs": [],
   "source": [
    "import matplotlib.pyplot as plt"
   ]
  },
  {
   "cell_type": "code",
   "execution_count": 151,
   "metadata": {},
   "outputs": [],
   "source": [
    "import seaborn as sns"
   ]
  },
  {
   "cell_type": "code",
   "execution_count": 152,
   "metadata": {},
   "outputs": [
    {
     "name": "stderr",
     "output_type": "stream",
     "text": [
      "/Users/apple/miniconda3/lib/python3.9/site-packages/seaborn/distributions.py:2557: FutureWarning: `distplot` is a deprecated function and will be removed in a future version. Please adapt your code to use either `displot` (a figure-level function with similar flexibility) or `histplot` (an axes-level function for histograms).\n",
      "  warnings.warn(msg, FutureWarning)\n"
     ]
    },
    {
     "data": {
      "image/png": "[encoded data removed]",
      "text/plain": [
       "<Figure size 432x288 with 1 Axes>"
      ]
     },
     "metadata": {
      "needs_background": "light"
     },
     "output_type": "display_data"
    }
   ],
   "source": [
    "sns.distplot((df2['Population'].astype(int)))\n",
    "plt.show()"
   ]
  },
  {
   "cell_type": "code",
   "execution_count": 153,
   "metadata": {},
   "outputs": [
    {
     "name": "stderr",
     "output_type": "stream",
     "text": [
      "/Users/apple/miniconda3/lib/python3.9/site-packages/seaborn/distributions.py:2557: FutureWarning: `distplot` is a deprecated function and will be removed in a future version. Please adapt your code to use either `displot` (a figure-level function with similar flexibility) or `histplot` (an axes-level function for histograms).\n",
      "  warnings.warn(msg, FutureWarning)\n"
     ]
    },
    {
     "data": {
      "text/plain": [
       "<AxesSubplot:xlabel='private_Population', ylabel='Density'>"
      ]
     },
     "execution_count": 153,
     "metadata": {},
     "output_type": "execute_result"
    },
    {
     "data": {
      "image/png": "[encoded data removed]",
      "text/plain": [
       "<Figure size 432x288 with 1 Axes>"
      ]
     },
     "metadata": {
      "needs_background": "light"
     },
     "output_type": "display_data"
    }
   ],
   "source": [
    "sns.distplot((df2['private_Population'].astype(float)))"
   ]
  },
  {
   "cell_type": "code",
   "execution_count": 163,
   "metadata": {},
   "outputs": [],
   "source": [
    "xa = np.linspace(0,640,640)"
   ]
  },
  {
   "cell_type": "code",
   "execution_count": 164,
   "metadata": {},
   "outputs": [],
   "source": [
    "y1 = df2['Power_Parity_Above_Rs_545000'].astype(int)\n",
    "y2 = df2['private_Power_Parity_Above_Rs_545000'].astype(float)"
   ]
  },
  {
   "cell_type": "code",
   "execution_count": 167,
   "metadata": {},
   "outputs": [
    {
     "data": {
      "image/png": "[encoded data removed]",
      "text/plain": [
       "<Figure size 432x288 with 1 Axes>"
      ]
     },
     "metadata": {
      "needs_background": "light"
     },
     "output_type": "display_data"
    }
   ],
   "source": [
    "plt.plot(xa[0:10],y1[0:10], color='g')\n",
    "plt.plot(xa[0:10],y2[0:10], color='r')\n",
    "# plt.scatter(xa,y2[0:10])\n",
    "plt.show()"
   ]
  },
  {
   "cell_type": "code",
   "execution_count": 114,
   "metadata": {},
   "outputs": [
    {
     "data": {
      "text/plain": [
       "(11,)"
      ]
     },
     "execution_count": 114,
     "metadata": {},
     "output_type": "execute_result"
    }
   ],
   "source": [
    "y1[0:11].shape"
   ]
  },
  {
   "cell_type": "code",
   "execution_count": null,
   "metadata": {},
   "outputs": [],
   "source": []
  }
 ],
 "metadata": {
  "kernelspec": {
   "display_name": "Python 3",
   "language": "python",
   "name": "python3"
  },
  "language_info": {
   "codemirror_mode": {
    "name": "ipython",
    "version": 3
   },
   "file_extension": ".py",
   "mimetype": "text/x-python",
   "name": "python",
   "nbconvert_exporter": "python",
   "pygments_lexer": "ipython3",
   "version": "3.9.1"
  }
 },
 "nbformat": 4,
 "nbformat_minor": 4
}
