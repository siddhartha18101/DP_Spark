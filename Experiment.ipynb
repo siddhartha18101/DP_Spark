{
 "cells": [
  {
   "cell_type": "markdown",
   "metadata": {},
   "source": [
    "# Differential Privacy for Indian census data using Apache Spark\n",
    "\n",
    
   
    " - Alluri L S V Siddhartha Varma \n"
    " - Shivansh Kumar \n",
    " - V.Pranav Reddy  \n",
   ]
  },
  {
   "cell_type": "markdown",
   "metadata": {},
   "source": [
    "## 1. Import required modules"
   ]
  },
  {
   "cell_type": "code",
   "execution_count": 6,
   "metadata": {},
   "outputs": [],
   "source": [
    "import numpy as np\n",
    "import pyspark\n",
    "from pyspark.sql import SparkSession\n",
    "from pyspark.sql.functions import *\n",
    "import pandas as pd\n",
    "import matplotlib.pyplot as plt\n",
    "import seaborn as sns"
   ]
  },
  {
   "cell_type": "code",
   "execution_count": 7,
   "metadata": {},
   "outputs": [],
   "source": [
    "data = pd.read_csv('india-districts-census-2011.csv')"
   ]
  },
  {
   "cell_type": "code",
   "execution_count": 9,
   "metadata": {},
   "outputs": [
    {
     "data": {
      "text/html": [
       "<div>\n",
       "<style scoped>\n",
       "    .dataframe tbody tr th:only-of-type {\n",
       "        vertical-align: middle;\n",
       "    }\n",
       "\n",
       "    .dataframe tbody tr th {\n",
       "        vertical-align: top;\n",
       "    }\n",
       "\n",
       "    .dataframe thead th {\n",
       "        text-align: right;\n",
       "    }\n",
       "</style>\n",
       "<table border=\"1\" class=\"dataframe\">\n",
       "  <thead>\n",
       "    <tr style=\"text-align: right;\">\n",
       "      <th></th>\n",
       "      <th>District code</th>\n",
       "      <th>State name</th>\n",
       "      <th>District name</th>\n",
       "      <th>Population</th>\n",
       "      <th>Male</th>\n",
       "      <th>Female</th>\n",
       "      <th>Literate</th>\n",
       "      <th>Male_Literate</th>\n",
       "      <th>Female_Literate</th>\n",
       "      <th>SC</th>\n",
       "      <th>...</th>\n",
       "      <th>Power_Parity_Rs_90000_150000</th>\n",
       "      <th>Power_Parity_Rs_45000_150000</th>\n",
       "      <th>Power_Parity_Rs_150000_240000</th>\n",
       "      <th>Power_Parity_Rs_240000_330000</th>\n",
       "      <th>Power_Parity_Rs_150000_330000</th>\n",
       "      <th>Power_Parity_Rs_330000_425000</th>\n",
       "      <th>Power_Parity_Rs_425000_545000</th>\n",
       "      <th>Power_Parity_Rs_330000_545000</th>\n",
       "      <th>Power_Parity_Above_Rs_545000</th>\n",
       "      <th>Total_Power_Parity</th>\n",
       "    </tr>\n",
       "  </thead>\n",
       "  <tbody>\n",
       "    <tr>\n",
       "      <th>0</th>\n",
       "      <td>1</td>\n",
       "      <td>JAMMU AND KASHMIR</td>\n",
       "      <td>Kupwara</td>\n",
       "      <td>870354</td>\n",
       "      <td>474190</td>\n",
       "      <td>396164</td>\n",
       "      <td>439654</td>\n",
       "      <td>282823</td>\n",
       "      <td>156831</td>\n",
       "      <td>1048</td>\n",
       "      <td>...</td>\n",
       "      <td>94</td>\n",
       "      <td>588</td>\n",
       "      <td>71</td>\n",
       "      <td>101</td>\n",
       "      <td>172</td>\n",
       "      <td>74</td>\n",
       "      <td>10</td>\n",
       "      <td>84</td>\n",
       "      <td>15</td>\n",
       "      <td>1119</td>\n",
       "    </tr>\n",
       "    <tr>\n",
       "      <th>1</th>\n",
       "      <td>2</td>\n",
       "      <td>JAMMU AND KASHMIR</td>\n",
       "      <td>Badgam</td>\n",
       "      <td>753745</td>\n",
       "      <td>398041</td>\n",
       "      <td>355704</td>\n",
       "      <td>335649</td>\n",
       "      <td>207741</td>\n",
       "      <td>127908</td>\n",
       "      <td>368</td>\n",
       "      <td>...</td>\n",
       "      <td>126</td>\n",
       "      <td>562</td>\n",
       "      <td>72</td>\n",
       "      <td>89</td>\n",
       "      <td>161</td>\n",
       "      <td>96</td>\n",
       "      <td>28</td>\n",
       "      <td>124</td>\n",
       "      <td>18</td>\n",
       "      <td>1066</td>\n",
       "    </tr>\n",
       "    <tr>\n",
       "      <th>2</th>\n",
       "      <td>3</td>\n",
       "      <td>JAMMU AND KASHMIR</td>\n",
       "      <td>Leh(Ladakh)</td>\n",
       "      <td>133487</td>\n",
       "      <td>78971</td>\n",
       "      <td>54516</td>\n",
       "      <td>93770</td>\n",
       "      <td>62834</td>\n",
       "      <td>30936</td>\n",
       "      <td>488</td>\n",
       "      <td>...</td>\n",
       "      <td>46</td>\n",
       "      <td>122</td>\n",
       "      <td>15</td>\n",
       "      <td>22</td>\n",
       "      <td>37</td>\n",
       "      <td>20</td>\n",
       "      <td>14</td>\n",
       "      <td>34</td>\n",
       "      <td>17</td>\n",
       "      <td>242</td>\n",
       "    </tr>\n",
       "    <tr>\n",
       "      <th>3</th>\n",
       "      <td>4</td>\n",
       "      <td>JAMMU AND KASHMIR</td>\n",
       "      <td>Kargil</td>\n",
       "      <td>140802</td>\n",
       "      <td>77785</td>\n",
       "      <td>63017</td>\n",
       "      <td>86236</td>\n",
       "      <td>56301</td>\n",
       "      <td>29935</td>\n",
       "      <td>18</td>\n",
       "      <td>...</td>\n",
       "      <td>27</td>\n",
       "      <td>114</td>\n",
       "      <td>12</td>\n",
       "      <td>18</td>\n",
       "      <td>30</td>\n",
       "      <td>19</td>\n",
       "      <td>3</td>\n",
       "      <td>22</td>\n",
       "      <td>7</td>\n",
       "      <td>214</td>\n",
       "    </tr>\n",
       "    <tr>\n",
       "      <th>4</th>\n",
       "      <td>5</td>\n",
       "      <td>JAMMU AND KASHMIR</td>\n",
       "      <td>Punch</td>\n",
       "      <td>476835</td>\n",
       "      <td>251899</td>\n",
       "      <td>224936</td>\n",
       "      <td>261724</td>\n",
       "      <td>163333</td>\n",
       "      <td>98391</td>\n",
       "      <td>556</td>\n",
       "      <td>...</td>\n",
       "      <td>78</td>\n",
       "      <td>346</td>\n",
       "      <td>35</td>\n",
       "      <td>50</td>\n",
       "      <td>85</td>\n",
       "      <td>59</td>\n",
       "      <td>8</td>\n",
       "      <td>67</td>\n",
       "      <td>12</td>\n",
       "      <td>629</td>\n",
       "    </tr>\n",
       "  </tbody>\n",
       "</table>\n",
       "<p>5 rows × 118 columns</p>\n",
       "</div>"
      ],
      "text/plain": [
       "   District code         State name District name  Population    Male  Female  \\\n",
       "0              1  JAMMU AND KASHMIR       Kupwara      870354  474190  396164   \n",
       "1              2  JAMMU AND KASHMIR        Badgam      753745  398041  355704   \n",
       "2              3  JAMMU AND KASHMIR   Leh(Ladakh)      133487   78971   54516   \n",
       "3              4  JAMMU AND KASHMIR        Kargil      140802   77785   63017   \n",
       "4              5  JAMMU AND KASHMIR         Punch      476835  251899  224936   \n",
       "\n",
       "   Literate  Male_Literate  Female_Literate    SC  ...  \\\n",
       "0    439654         282823           156831  1048  ...   \n",
       "1    335649         207741           127908   368  ...   \n",
       "2     93770          62834            30936   488  ...   \n",
       "3     86236          56301            29935    18  ...   \n",
       "4    261724         163333            98391   556  ...   \n",
       "\n",
       "   Power_Parity_Rs_90000_150000  Power_Parity_Rs_45000_150000  \\\n",
       "0                            94                           588   \n",
       "1                           126                           562   \n",
       "2                            46                           122   \n",
       "3                            27                           114   \n",
       "4                            78                           346   \n",
       "\n",
       "   Power_Parity_Rs_150000_240000  Power_Parity_Rs_240000_330000  \\\n",
       "0                             71                            101   \n",
       "1                             72                             89   \n",
       "2                             15                             22   \n",
       "3                             12                             18   \n",
       "4                             35                             50   \n",
       "\n",
       "   Power_Parity_Rs_150000_330000  Power_Parity_Rs_330000_425000  \\\n",
       "0                            172                             74   \n",
       "1                            161                             96   \n",
       "2                             37                             20   \n",
       "3                             30                             19   \n",
       "4                             85                             59   \n",
       "\n",
       "   Power_Parity_Rs_425000_545000  Power_Parity_Rs_330000_545000  \\\n",
       "0                             10                             84   \n",
       "1                             28                            124   \n",
       "2                             14                             34   \n",
       "3                              3                             22   \n",
       "4                              8                             67   \n",
       "\n",
       "   Power_Parity_Above_Rs_545000  Total_Power_Parity  \n",
       "0                            15                1119  \n",
       "1                            18                1066  \n",
       "2                            17                 242  \n",
       "3                             7                 214  \n",
       "4                            12                 629  \n",
       "\n",
       "[5 rows x 118 columns]"
      ]
     },
     "execution_count": 9,
     "metadata": {},
     "output_type": "execute_result"
    }
   ],
   "source": [
    "data.head()"
   ]
  },
  {
   "cell_type": "markdown",
   "metadata": {},
   "source": [
    "## 2. Start a spark session and Load data into RDD"
   ]
  },
  {
   "cell_type": "code",
   "execution_count": 10,
   "metadata": {},
   "outputs": [],
   "source": [
    "spark = SparkSession.builder.getOrCreate()"
   ]
  },
  {
   "cell_type": "code",
   "execution_count": 11,
   "metadata": {},
   "outputs": [],
   "source": [
    "df = spark.read.format('csv').options(header='true').load('india-districts-census-2011.csv')"
   ]
  },
  {
   "cell_type": "code",
   "execution_count": 12,
   "metadata": {},
   "outputs": [],
   "source": [
    "dfcopy = df\n",
    "df = df.drop('District code',\n",
    " 'State name',\n",
    " 'District name',)"
   ]
  },
  {
   "cell_type": "markdown",
   "metadata": {},
   "source": [
    "## 3. Perform operations with a UDF"
   ]
  },
  {
   "cell_type": "code",
   "execution_count": 78,
   "metadata": {},
   "outputs": [],
   "source": [
    "def AddNoise(x, epsilon=0.1):\n",
    "    x = int(x) +  np.random.laplace(0,1.0/epsilon)\n",
    "    return x\n",
    "dp_udf = udf(AddNoise)"
   ]
  },
  {
   "cell_type": "code",
   "execution_count": 70,
   "metadata": {},
   "outputs": [],
   "source": [
    "df.createOrReplaceTempView(\"table1\")\n",
    "df2 = spark.table('table1')\n"
   ]
  },
  {
   "cell_type": "code",
   "execution_count": 71,
   "metadata": {},
   "outputs": [],
   "source": [
    "for x in df.columns:\n",
    "    new = dp_udf(x)\n",
    "    df2 = df2.withColumn('private' + '_' + x , new)"
   ]
  },
  {
   "cell_type": "code",
   "execution_count": 17,
   "metadata": {},
   "outputs": [
    {
     "name": "stdout",
     "output_type": "stream",
     "text": [
      "+------------------+\n",
      "|private_Population|\n",
      "+------------------+\n",
      "| 870363.0007639938|\n",
      "| 753743.6683585497|\n",
      "| 133471.8829738644|\n",
      "|140806.07924249137|\n",
      "|476830.16928310925|\n",
      "|  642416.341998033|\n",
      "| 616433.0286585956|\n",
      "|1007994.2887637658|\n",
      "|  392242.862837131|\n",
      "| 1236846.945946766|\n",
      "|297458.54997257155|\n",
      "| 560450.4492356218|\n",
      "|266217.06174596184|\n",
      "| 1078692.511123395|\n",
      "|424475.93604214786|\n",
      "|409934.95184509386|\n",
      "| 283729.3106132795|\n",
      "|230695.17972171094|\n",
      "|   555028.43408655|\n",
      "|314659.60120883177|\n",
      "+------------------+\n",
      "only showing top 20 rows\n",
      "\n"
     ]
    }
   ],
   "source": [
    "df2.select('private_Population').show()"
   ]
  },
  {
   "cell_type": "code",
   "execution_count": 72,
   "metadata": {},
   "outputs": [
    {
     "data": {
      "text/plain": [
       "['Population',\n",
       " 'Male',\n",
       " 'Female',\n",
       " 'Literate',\n",
       " 'Male_Literate',\n",
       " 'Female_Literate',\n",
       " 'SC',\n",
       " 'Male_SC',\n",
       " 'Female_SC',\n",
       " 'ST',\n",
       " 'Male_ST',\n",
       " 'Female_ST',\n",
       " 'Workers',\n",
       " 'Male_Workers',\n",
       " 'Female_Workers',\n",
       " 'Main_Workers',\n",
       " 'Marginal_Workers',\n",
       " 'Non_Workers',\n",
       " 'Cultivator_Workers',\n",
       " 'Agricultural_Workers',\n",
       " 'Household_Workers',\n",
       " 'Other_Workers',\n",
       " 'Hindus',\n",
       " 'Muslims',\n",
       " 'Christians',\n",
       " 'Sikhs',\n",
       " 'Buddhists',\n",
       " 'Jains',\n",
       " 'Others_Religions',\n",
       " 'Religion_Not_Stated',\n",
       " 'LPG_or_PNG_Households',\n",
       " 'Housholds_with_Electric_Lighting',\n",
       " 'Households_with_Internet',\n",
       " 'Households_with_Computer',\n",
       " 'Rural_Households',\n",
       " 'Urban_Households',\n",
       " 'Households',\n",
       " 'Below_Primary_Education',\n",
       " 'Primary_Education',\n",
       " 'Middle_Education',\n",
       " 'Secondary_Education',\n",
       " 'Higher_Education',\n",
       " 'Graduate_Education',\n",
       " 'Other_Education',\n",
       " 'Literate_Education',\n",
       " 'Illiterate_Education',\n",
       " 'Total_Education',\n",
       " 'Age_Group_0_29',\n",
       " 'Age_Group_30_49',\n",
       " 'Age_Group_50',\n",
       " 'Age not stated',\n",
       " 'Households_with_Bicycle',\n",
       " 'Households_with_Car_Jeep_Van',\n",
       " 'Households_with_Radio_Transistor',\n",
       " 'Households_with_Scooter_Motorcycle_Moped',\n",
       " 'Households_with_Telephone_Mobile_Phone_Landline_only',\n",
       " 'Households_with_Telephone_Mobile_Phone_Mobile_only',\n",
       " 'Households_with_TV_Computer_Laptop_Telephone_mobile_phone_and_Scooter_Car',\n",
       " 'Households_with_Television',\n",
       " 'Households_with_Telephone_Mobile_Phone',\n",
       " 'Households_with_Telephone_Mobile_Phone_Both',\n",
       " 'Condition_of_occupied_census_houses_Dilapidated_Households',\n",
       " 'Households_with_separate_kitchen_Cooking_inside_house',\n",
       " 'Having_bathing_facility_Total_Households',\n",
       " 'Having_latrine_facility_within_the_premises_Total_Households',\n",
       " 'Ownership_Owned_Households',\n",
       " 'Ownership_Rented_Households',\n",
       " 'Type_of_bathing_facility_Enclosure_without_roof_Households',\n",
       " 'Type_of_fuel_used_for_cooking_Any_other_Households',\n",
       " 'Type_of_latrine_facility_Pit_latrine_Households',\n",
       " 'Type_of_latrine_facility_Other_latrine_Households',\n",
       " 'Type_of_latrine_facility_Night_soil_disposed_into_open_drain_Households',\n",
       " 'Type_of_latrine_facility_Flush_pour_flush_latrine_connected_to_other_system_Households',\n",
       " 'Not_having_bathing_facility_within_the_premises_Total_Households',\n",
       " 'Not_having_latrine_facility_within_the_premises_Alternative_source_Open_Households',\n",
       " 'Main_source_of_drinking_water_Un_covered_well_Households',\n",
       " 'Main_source_of_drinking_water_Handpump_Tubewell_Borewell_Households',\n",
       " 'Main_source_of_drinking_water_Spring_Households',\n",
       " 'Main_source_of_drinking_water_River_Canal_Households',\n",
       " 'Main_source_of_drinking_water_Other_sources_Households',\n",
       " 'Main_source_of_drinking_water_Other_sources_Spring_River_Canal_Tank_Pond_Lake_Other_sources__Households',\n",
       " 'Location_of_drinking_water_source_Near_the_premises_Households',\n",
       " 'Location_of_drinking_water_source_Within_the_premises_Households',\n",
       " 'Main_source_of_drinking_water_Tank_Pond_Lake_Households',\n",
       " 'Main_source_of_drinking_water_Tapwater_Households',\n",
       " 'Main_source_of_drinking_water_Tubewell_Borehole_Households',\n",
       " 'Household_size_1_person_Households',\n",
       " 'Household_size_2_persons_Households',\n",
       " 'Household_size_1_to_2_persons',\n",
       " 'Household_size_3_persons_Households',\n",
       " 'Household_size_3_to_5_persons_Households',\n",
       " 'Household_size_4_persons_Households',\n",
       " 'Household_size_5_persons_Households',\n",
       " 'Household_size_6_8_persons_Households',\n",
       " 'Household_size_9_persons_and_above_Households',\n",
       " 'Location_of_drinking_water_source_Away_Households',\n",
       " 'Married_couples_1_Households',\n",
       " 'Married_couples_2_Households',\n",
       " 'Married_couples_3_Households',\n",
       " 'Married_couples_3_or_more_Households',\n",
       " 'Married_couples_4_Households',\n",
       " 'Married_couples_5__Households',\n",
       " 'Married_couples_None_Households',\n",
       " 'Power_Parity_Less_than_Rs_45000',\n",
       " 'Power_Parity_Rs_45000_90000',\n",
       " 'Power_Parity_Rs_90000_150000',\n",
       " 'Power_Parity_Rs_45000_150000',\n",
       " 'Power_Parity_Rs_150000_240000',\n",
       " 'Power_Parity_Rs_240000_330000',\n",
       " 'Power_Parity_Rs_150000_330000',\n",
       " 'Power_Parity_Rs_330000_425000',\n",
       " 'Power_Parity_Rs_425000_545000',\n",
       " 'Power_Parity_Rs_330000_545000',\n",
       " 'Power_Parity_Above_Rs_545000',\n",
       " 'Total_Power_Parity',\n",
       " 'private_Population',\n",
       " 'private_Male',\n",
       " 'private_Female',\n",
       " 'private_Literate',\n",
       " 'private_Male_Literate',\n",
       " 'private_Female_Literate',\n",
       " 'private_SC',\n",
       " 'private_Male_SC',\n",
       " 'private_Female_SC',\n",
       " 'private_ST',\n",
       " 'private_Male_ST',\n",
       " 'private_Female_ST',\n",
       " 'private_Workers',\n",
       " 'private_Male_Workers',\n",
       " 'private_Female_Workers',\n",
       " 'private_Main_Workers',\n",
       " 'private_Marginal_Workers',\n",
       " 'private_Non_Workers',\n",
       " 'private_Cultivator_Workers',\n",
       " 'private_Agricultural_Workers',\n",
       " 'private_Household_Workers',\n",
       " 'private_Other_Workers',\n",
       " 'private_Hindus',\n",
       " 'private_Muslims',\n",
       " 'private_Christians',\n",
       " 'private_Sikhs',\n",
       " 'private_Buddhists',\n",
       " 'private_Jains',\n",
       " 'private_Others_Religions',\n",
       " 'private_Religion_Not_Stated',\n",
       " 'private_LPG_or_PNG_Households',\n",
       " 'private_Housholds_with_Electric_Lighting',\n",
       " 'private_Households_with_Internet',\n",
       " 'private_Households_with_Computer',\n",
       " 'private_Rural_Households',\n",
       " 'private_Urban_Households',\n",
       " 'private_Households',\n",
       " 'private_Below_Primary_Education',\n",
       " 'private_Primary_Education',\n",
       " 'private_Middle_Education',\n",
       " 'private_Secondary_Education',\n",
       " 'private_Higher_Education',\n",
       " 'private_Graduate_Education',\n",
       " 'private_Other_Education',\n",
       " 'private_Literate_Education',\n",
       " 'private_Illiterate_Education',\n",
       " 'private_Total_Education',\n",
       " 'private_Age_Group_0_29',\n",
       " 'private_Age_Group_30_49',\n",
       " 'private_Age_Group_50',\n",
       " 'private_Age not stated',\n",
       " 'private_Households_with_Bicycle',\n",
       " 'private_Households_with_Car_Jeep_Van',\n",
       " 'private_Households_with_Radio_Transistor',\n",
       " 'private_Households_with_Scooter_Motorcycle_Moped',\n",
       " 'private_Households_with_Telephone_Mobile_Phone_Landline_only',\n",
       " 'private_Households_with_Telephone_Mobile_Phone_Mobile_only',\n",
       " 'private_Households_with_TV_Computer_Laptop_Telephone_mobile_phone_and_Scooter_Car',\n",
       " 'private_Households_with_Television',\n",
       " 'private_Households_with_Telephone_Mobile_Phone',\n",
       " 'private_Households_with_Telephone_Mobile_Phone_Both',\n",
       " 'private_Condition_of_occupied_census_houses_Dilapidated_Households',\n",
       " 'private_Households_with_separate_kitchen_Cooking_inside_house',\n",
       " 'private_Having_bathing_facility_Total_Households',\n",
       " 'private_Having_latrine_facility_within_the_premises_Total_Households',\n",
       " 'private_Ownership_Owned_Households',\n",
       " 'private_Ownership_Rented_Households',\n",
       " 'private_Type_of_bathing_facility_Enclosure_without_roof_Households',\n",
       " 'private_Type_of_fuel_used_for_cooking_Any_other_Households',\n",
       " 'private_Type_of_latrine_facility_Pit_latrine_Households',\n",
       " 'private_Type_of_latrine_facility_Other_latrine_Households',\n",
       " 'private_Type_of_latrine_facility_Night_soil_disposed_into_open_drain_Households',\n",
       " 'private_Type_of_latrine_facility_Flush_pour_flush_latrine_connected_to_other_system_Households',\n",
       " 'private_Not_having_bathing_facility_within_the_premises_Total_Households',\n",
       " 'private_Not_having_latrine_facility_within_the_premises_Alternative_source_Open_Households',\n",
       " 'private_Main_source_of_drinking_water_Un_covered_well_Households',\n",
       " 'private_Main_source_of_drinking_water_Handpump_Tubewell_Borewell_Households',\n",
       " 'private_Main_source_of_drinking_water_Spring_Households',\n",
       " 'private_Main_source_of_drinking_water_River_Canal_Households',\n",
       " 'private_Main_source_of_drinking_water_Other_sources_Households',\n",
       " 'private_Main_source_of_drinking_water_Other_sources_Spring_River_Canal_Tank_Pond_Lake_Other_sources__Households',\n",
       " 'private_Location_of_drinking_water_source_Near_the_premises_Households',\n",
       " 'private_Location_of_drinking_water_source_Within_the_premises_Households',\n",
       " 'private_Main_source_of_drinking_water_Tank_Pond_Lake_Households',\n",
       " 'private_Main_source_of_drinking_water_Tapwater_Households',\n",
       " 'private_Main_source_of_drinking_water_Tubewell_Borehole_Households',\n",
       " 'private_Household_size_1_person_Households',\n",
       " 'private_Household_size_2_persons_Households',\n",
       " 'private_Household_size_1_to_2_persons',\n",
       " 'private_Household_size_3_persons_Households',\n",
       " 'private_Household_size_3_to_5_persons_Households',\n",
       " 'private_Household_size_4_persons_Households',\n",
       " 'private_Household_size_5_persons_Households',\n",
       " 'private_Household_size_6_8_persons_Households',\n",
       " 'private_Household_size_9_persons_and_above_Households',\n",
       " 'private_Location_of_drinking_water_source_Away_Households',\n",
       " 'private_Married_couples_1_Households',\n",
       " 'private_Married_couples_2_Households',\n",
       " 'private_Married_couples_3_Households',\n",
       " 'private_Married_couples_3_or_more_Households',\n",
       " 'private_Married_couples_4_Households',\n",
       " 'private_Married_couples_5__Households',\n",
       " 'private_Married_couples_None_Households',\n",
       " 'private_Power_Parity_Less_than_Rs_45000',\n",
       " 'private_Power_Parity_Rs_45000_90000',\n",
       " 'private_Power_Parity_Rs_90000_150000',\n",
       " 'private_Power_Parity_Rs_45000_150000',\n",
       " 'private_Power_Parity_Rs_150000_240000',\n",
       " 'private_Power_Parity_Rs_240000_330000',\n",
       " 'private_Power_Parity_Rs_150000_330000',\n",
       " 'private_Power_Parity_Rs_330000_425000',\n",
       " 'private_Power_Parity_Rs_425000_545000',\n",
       " 'private_Power_Parity_Rs_330000_545000',\n",
       " 'private_Power_Parity_Above_Rs_545000',\n",
       " 'private_Total_Power_Parity']"
      ]
     },
     "execution_count": 72,
     "metadata": {},
     "output_type": "execute_result"
    }
   ],
   "source": [
    "df2.columns"
   ]
  },
  {
   "cell_type": "code",
   "execution_count": 73,
   "metadata": {},
   "outputs": [],
   "source": [
    "df3 = df2\n",
    "for x in df.columns:\n",
    "    df3.drop(x)"
   ]
  },
  {
   "cell_type": "markdown",
   "metadata": {},
   "source": [
    "## 4. Results"
   ]
  },
  {
   "cell_type": "code",
   "execution_count": 19,
   "metadata": {},
   "outputs": [],
   "source": [
    "df2 = df2.toPandas()\n"
   ]
  },
  {
   "cell_type": "code",
   "execution_count": 20,
   "metadata": {},
   "outputs": [
    {
     "data": {
      "text/plain": [
       "pandas.core.frame.DataFrame"
      ]
     },
     "execution_count": 20,
     "metadata": {},
     "output_type": "execute_result"
    }
   ],
   "source": [
    "type(df2)"
   ]
  },
  {
   "cell_type": "code",
   "execution_count": 35,
   "metadata": {},
   "outputs": [
    {
     "name": "stdout",
     "output_type": "stream",
     "text": [
      "Normal, Private: (0      870354\n",
      "1      753745\n",
      "2      133487\n",
      "3      140802\n",
      "4      476835\n",
      "5      642415\n",
      "6      616435\n",
      "7     1008039\n",
      "8      392232\n",
      "9     1236829\n",
      "10     297446\n",
      "11     560440\n",
      "12     266215\n",
      "13    1078692\n",
      "14     424483\n",
      "Name: Population, dtype: object, 0      870363.0007639938\n",
      "1      753739.9004611457\n",
      "2     133478.80693943475\n",
      "3      140809.8299744958\n",
      "4     476816.67986192787\n",
      "5      642414.5034598209\n",
      "6      616432.9163377193\n",
      "7      1008036.111335131\n",
      "8      392244.3293973958\n",
      "9     1236831.6532414057\n",
      "10     297431.1054383594\n",
      "11      560422.522057639\n",
      "12    266220.37997937185\n",
      "13    1078658.5281829585\n",
      "14     424505.1181700857\n",
      "Name: private_Population, dtype: object)\n"
     ]
    }
   ],
   "source": [
    "print(f\"Normal, Private: {df2['Population'][0:15], df2['private_Population'][0:15]}\")"
   ]
  },
  {
   "cell_type": "code",
   "execution_count": 149,
   "metadata": {},
   "outputs": [
    {
     "data": {
      "text/plain": [
       "1891961.351272822"
      ]
     },
     "execution_count": 149,
     "metadata": {},
     "output_type": "execute_result"
    }
   ],
   "source": [
    "np.mean(df2['private_Population'].astype(float))"
   ]
  },
  {
   "cell_type": "code",
   "execution_count": 22,
   "metadata": {},
   "outputs": [
    {
     "data": {
      "text/plain": [
       "1891960.9015625"
      ]
     },
     "execution_count": 22,
     "metadata": {},
     "output_type": "execute_result"
    }
   ],
   "source": [
    "np.mean(df2['Population'].astype(float))"
   ]
  },
  {
   "cell_type": "code",
   "execution_count": 24,
   "metadata": {},
   "outputs": [
    {
     "data": {
      "image/png": "iVBORw0KGgoAAAANSUhEUgAAAX4AAAEGCAYAAABiq/5QAAAAOXRFWHRTb2Z0d2FyZQBNYXRwbG90bGliIHZlcnNpb24zLjMuMiwgaHR0cHM6Ly9tYXRwbG90bGliLm9yZy8vihELAAAACXBIWXMAAAsTAAALEwEAmpwYAAAofUlEQVR4nO3de3xcdZ3/8ddnZpLJ/X5p2iZNoaVcSlugXBXlIgiIgv6QVVFQwf52XQRkl9V13d/K7uriZcHbKouAgrqiXBQELXe5LAi9ciktLaWlTS9pkjZprpPMzPf3x0wgjblM0pmczMz7+XjMYzJnzpzzOWn6Pt/5nnO+x5xziIhI9vB5XYCIiEwtBb+ISJZR8IuIZBkFv4hIllHwi4hkmYDXBSSiqqrKNTY2el2GiEhaWbVqVatzrnr49LQI/sbGRlauXOl1GSIiacXM3hppurp6RESyjIJfRCTLKPhFRLKMgl9EJMso+EVEsoyCX0Qkyyj4RUSyjIJfRCTLKPhFRLKMgv8g1DfMwcwSetQ3zPG6XBERIE2GbJiumrZv48ZHXk9o3mvPXpDiakREEqMWv4hIllHwi4hkGQW/iEiWUR9/CvSHo7yyo4Otbd109A4QDPgoP3MZm5o7mV9b7HV5IpLl1OJPsjf2dHHH81t59o1WQgNRZpXlUxgMULzkXN7/3ae56dGNRKLO6zJFJIupxZ8kzjlWvrWP5za3UVMc5IOLZjKjNO/t9//+ggu5+mdP8b3HN7F+135+dMmxBPza74rI1FPyJMmabe08t7mNw2qL+Ohxsw8IfYBo735uvHgJ/+/8I3nktWa+dO8rOKeWv4hMvYwP/qm4yGpTcyfPvNHK/JoizjlqxsgtefNhZlx+6iG0P/ML7l3dROnSD+liLxGZchnf1ZPqi6w6egd4bP0e6krzOPvIWsxs5Bld9O06nHM88NJO/O//G6766jeoLAoedB0iIonK+BZ/SpmPh9ftBmP0lv5IHzPjfUfUkuv38ej6ZnX5iMiUUvAfhOJjzmNXRx+nL6imJD9nQp8tDAZ497wqmveH2LC7M0UVioj8JQX/JLV0hig79ZM0VBSwYJLn5h9RV0xNcZD/3dzKQCSa5ApFREam4J+kbz+8AcsJctph1aP364/DzHjPYdV0hyK80tQx5A1fwgekdTBYRCYqpQd3zeyLwBWAA14BPgMUAL8GGoGtwMXOuX2prCPZNrd0cc+qJjpXP0T52dcd1LJmleVTX57Pqm37WDS7NHacYMiB4EToYLCITETKWvxmNgu4CljqnFsI+IGPAV8GHnfOzQcej79OKzc+upG8HD8df747Kcs7YW4FPf0R1u3cn5TliYiMJdVdPQEg38wCxFr6O4ELgDvi798BXJjiGpLq9d2dPPTyLj77rrlEezrG/0ACZpXlU1eax+pt+4jqDB8RSbGUBb9zbgfwHWAbsAvocM49AtQ653bF59kF1KSqhlT476c3k5/j54pT5yZtmWbGkvoy9veF2drWnbTlioiMJJVdPeXEWvdzgZlAoZl9cgKfX2ZmK81sZUtLS6rKHLbSsQ+qBkqquHfFWzQ//1vKC4PjL28CDq0uoigY4KXtyfkWISIymlQe3H0fsMU51wJgZvcBpwDNZlbnnNtlZnXAnpE+7Jy7BbgFYOnSpVPT/zHOQdVnN7Wyevs+rr7qKkq+9HdJPajq9xlHzyrl+TfbCJTPTNpyRUSGS2Uf/zbgJDMrsNj5jmcC64EHgMvi81wG3J/CGpImHIny6s4O5lUXTfhirUQdNbMEMyhadFZKli8iAils8TvnXjCze4DVQBhYQ6wFXwT8xswuJ7Zz+GiqakimTXu6CIWjHD2rNGXrKAwGaKwsZNPCM4lGHT7f5K4PEBEZS0rP43fO/QvwL8Mmh4i1/tPKy00dlBfkMLs8P6XrOWpmCVtaK3hrbw9zqwpTui4RyU66cjcBLZ0hdu/v4+hZpZO+SjdRjZWFRLrbeU3n9ItIiij4E7Bh9358BofPKEn5uvw+o3v902xp66Y/rPF7RCT5FPzjiEYdG3Z30lhZSH6uf0rW2bPhGSJRx5utXVOyPhHJLgr+cWzf10NPf4Qj6lLf2h8U2rGBomCATc0KfhFJPgX/ONbv7iQY8NFYVTCFa3XMqynirbYeQuHIFK5XRLKBgn8M4UiUN1u6mFdTRMA3tb+qw2qLiDjHlhYN4SAiyaXgH8O2vT0MRBzza4qmfN0zSvIoCgbYuEfdPSKSXAr+MWza00Uw4GN2+VR288SYGfNri9im7h4RSTIF/yjC0ShvtnRzaHURfo+uoD2sppiIc7yp7h4RSSIF/yi27+2lPxJlngfdPINqS4IU5wXY2KybsYtI8ij4R7GltZscv1Gf4iEaxmJmzKspiu2EdDGXiCSJgn8Ezjm2tHbTUFEQuweuhw6pKiTiHNv29nhah4hkDgX/CFq7+ukKhWmcBoOkzSzNJxjw6SpeEUkaBf8ItsRvfzi30vvg9/mMxqpCtrb26H68IpIUCv4RbG3tpqY4SGEwpaNWJ+yQqkJ6ByLs7ujzuhQRyQAK/mFC8YBtnAat/UFzKgvwGbzZqtM6ReTgKfiH2b6vFwc0VEz9RVujCQb8zCrP1/ANIpIUCv5htu3tIcdvzCjN87qUAxxSVcTenn7ae/q9LkVE0pyCf5hte3uYXV7g2dW6oxm8DaO6e0TkYCn4hwiU1tLROzCtunkGlebnUFmUq+4eETloCv4h8uYsBvD0at2xHFJVyI6OXkIDGrRNRCZPwT9EsH4h+Tl+KgpzvS5lRI2VhTgHb+kqXhE5CAr+OOcceQ0LmVWej9n06t8fNKM0j7wcH1vUzy8iB0HBH9fZFyZQUsPssunZzQPgM6OxspC32nQVr4hMnoI/rqm9F4BZ07R/f9Dc+FW8zft1Fa+ITI6CP27Hvl4ivfupnKb9+4PmVBRghrp7RGTSFPxxO9p7CW1fN2379wcFc/zMLM1X8IvIpCn4ge5QmI7eAUI7XvO6lITMrSqktaufzr4Br0sRkTSk4Ad2x/vLQzvWe1xJYhorYxeYbW3TaZ0iMnEKfmBXex8+g9DuzV6XkpCKwlxK8gLq7hGRSVHwA7s6eqkpzoNIenSdmBlzqwrZvreHcET34hWRicn64I9EHc2dIerKptdonOOZW1VIOOpo2tfrdSkikmayPvhbOkNEoo66aTYM83hmleUT8Nnbt4kUEUlU1gf/ro5Yi7muZHpfuDVcwO+joaJA/fwiMmFZH/x7OkMU5vopypse99ediLlVhXT2hcmpavC6FBFJIwr+/SFqStKrm2fQ4H2B8w893uNKRCSdZHXw94ej7O3pp6Y46HUpk1KUF6C6OKjgF5EJyergb+kKAVBTkp7BDzC3spDgrCN0L14RSVhKg9/MyszsHjPbYGbrzexkM6sws0fNbFP8uTyVNYxlT/yK3dri9OzqAWisKsB8fp7a2OJ1KSKSJlLd4v8esNw5dziwGFgPfBl43Dk3H3g8/toTgwd2C4Ppd2B3UG1JHpHudp7YsMfrUkQkTaQs+M2sBHgPcBuAc67fOdcOXADcEZ/tDuDCVNUwnnQ+sDvIZ0bvm6t4amMLkahuziIi40tli/8QoAX4qZmtMbNbzawQqHXO7QKIP9eksIZRpfuB3aF6N79Ie88Aa7bt87oUEUkDqQz+AHAs8GPn3DFANxPo1jGzZWa20sxWtrQkv/86Ew7sDurdsoaAz3hc3T0ikoBUBn8T0OSceyH++h5iO4JmM6sDiD+PmFbOuVucc0udc0urq6uTXlwmHNgd5Pp7OL6xgicV/CKSgJQFv3NuN7DdzBbEJ50JvAY8AFwWn3YZcH+qahhLJhzYHeqMw2vYsLuTHe0atE1Expbqs3q+APzSzF4GlgDfAG4AzjKzTcBZ8ddTLhMO7A51+uGxQyVPrG/2uBIRme5S2tx1zq0Flo7w1pmpXO94Bg/szq8t8rKMpDq0upDGygIeXb+HT53c6HU5IjKNZeWVu5l0YHeQmfH+hTN47o1WOnrT44YyIuKNrAz+TDqwO9Q5R80gHHU8sUHdPSIyuqwM/taufvJzMufA7qDFs8uYUZLH8ld3e12KiExjWRr8IaqKcr0uI+l8PuP9R9Xy1MYWevrDXpcjItNU1gV/1Dn2dvdTVZQ5/ftDvX/hDPoGojytQdtEZBRZF/wdvQOEo47KDGzxA5zQWEF5QY66e0RkVFkX/K3xM3oytcUf8Ps468haHl+/h/5w1OtyRGQayrrgb+vqx4CKwsxs8QOcs3AGnaEwz21u9boUEZmGsi74W7tClBbkkOPP3E1/17wqioIB/viKuntE5C9lbvqNorWrn6rCzOzmGRQM+DnryFr++OouQuGI1+WIyDSTVcE/EInS0TuQkadyDvehJTPZ3xfm6Y3q7hGRA2VV8Ld1x25IXpmhB3aHeve8KsoLcrh/7Q6vSxGRaSargv+dM3oyv8Wf4/fxgUV1PLa+me6QLuYSkXdkVfC3dfUT8Bml+TlelzIlPrR4Fn0DUR59TWP3iMg7sir4W7tCVBblYmZelzIlls4pZ2ZpHg+8tNPrUkRkGkko+M3sXYlMm86cc7R1Ze5QDSPx+YwPLp7J0xtb2Bc/viEikmiL/wcJTpu2evoj9A5Esir4IXZ2Tzjq+MOru7wuRUSmiTHHJTazk4FTgGozu3bIWyWAP5WFJdvggd3KDL5idyRH1pUwr6aI367ewSUnzvG6HBGZBsZr8ecCRcR2EMVDHvuBi1JbWnINnsqZbS1+M+Oi42az8q19vNnS5XU5IjINjNnid849BTxlZj9zzr01RTWlRFtXPwW5fvJz0+qLSlJ85JhZfPvh17l7VRNfOudwr8sREY8l2scfNLNbzOwRM3ti8JHSypJsb3d/Rg/MNpaakjxOX1DNvauaCEc0YqdItkv03oN3AzcDtwJpN/iLi9985Yi6Yq9L8cxHl9bz2Po9PL2phTMOr/W6HBHxUKLBH3bO/TillaRQVyhMfySatS1+gDMOr6GqKJffrGhS8ItkuUS7en5vZp83szozqxh8pLSyJNobP7CbzcGf4/fx4WNm8dj6ZtriZziJSHZKNPgvA64DngNWxR8rU1VUsin4Yz66tJ5w1PHbNRq4TSSbJRT8zrm5IzwOSXVxybK3u5/8HD8FuYn2bGWmw2qLWVJfxl0rtuOc87ocEfFIQkloZpeONN05d2dyy0mNtiw+o2e4S05s4Lp7Xub5N9s45dAqr8sREQ8k2tVz/JDHqcDXgA+lqKaky+ZTOYf74OKZlBXk8PPn0/qyDBE5CAm1+J1zXxj62sxKgZ+npKIk8xWWEQpn9xk9Q+Xl+PmrpfXc+uwWdnX0Ulea73VJIjLFJjsscw8wP5mFpEpuZQOgA7tDffKkOUSd41cvbPO6FBHxQKJ9/L8HBo8G+oEjgN+kqqhkyqmKBX+2Dc42lvqKAk5fUMP/vLidK8+YT24gq27LIJL1Ej3N5TtDfg4DbznnmlJQT9LlVNYTDPgoyMIxesbyqZPn8JmfrmD5ut18aPFMr8sRkSmU6OmcTwEbiI3MWQ6kzV09cqoaqCjM8LtumQ8zS+gRyIn9Ls44fAYD+3ay7Nu/HHXe+gYN4yySiRLt6rkY+DbwJ8CAH5jZdc65e1JYW1LkVNZnfv++i3LjI68nNOu1Zy94e9412/bx9KZWrrt77YgHea89e0FSyxSR6SHRzt1/Ao53zl3mnLsUOAH459SVlRxtXSH8hWWZH/yTdNTMUoIBH6u3tXtdiohMoUSD3+ec2zPkddsEPuuZN/bEbjyiA7sjyw34OHpWKZv3dNHekza9dyJykBIN7+Vm9rCZfdrMPg08BPwhdWUlx6Z48KvFP7rF9WWYwdrt7V6XIiJTZMzgN7N5ZvYu59x1wH8Di4DFwPPALVNQ30F5Y08X0VAPRcHsHqNnLEXBAAtmFLNu5376BtLuVgsiMgnjtfi/C3QCOOfuc85d65z7IrHW/ndTW9rB+9CSmex99ObMPqMnCY5tKCccdby8o8PrUkRkCowX/I3OuZeHT3TOrQQaE1mBmfnNbI2ZPRh/XWFmj5rZpvhz+YSrTtCxDeV0r0urO0R6oqooyJzKAtZua2dAt2YUyXjjBX/eGO8lOsjL1cD6Ia+/DDzunJsPPB5/LR47fk4FvQMRXlWrXyTjjRf8K8zsc8MnmtnlxG7GMiYzmw18gNi9egddANwR//kO4MKEKpWUmlWez+yyfFa9tU83ZBfJcOMd9bwG+K2ZXcI7Qb8UyAU+nMDyvwv8A7ErfgfVOud2ATjndplZzUgfNLNlwDKAhoaGBFYlB+uEuRXct2YH63buZ3F9mdfliEiKjNnid841O+dOAa4HtsYf1zvnTnbO7R7rs2Z2PrDHOTfuN4NR1n2Lc26pc25pdXX1ZBYhEzS7PJ+ZpXmsfGsf4aha/SKZKtHx+J8Enpzgst8FfMjMziN2rKDEzH4BNJtZXby1XwfsGXMpMmXMjBPmVvC7tTt5bed+r8sRkRRJ2dW3zrl/dM7Nds41Ah8DnnDOfRJ4gNjN24k/35+qGmTiGioKqCvNY8XWfeDP8bocEUkBL4ZduAE4y8w2AWfFX8s0YWacdEglXaEwxcd+wOtyRCQFpuSSVufcn4iN7Ilzrg04cyrWK5PTUFFAQ0UBkZMvpqN3gNJ8tfxFMsm0H2hNvPHueVX48oq4+anNXpciIkmm4JcRVRcH6V73J26P35RdRDKHgl9G1f7ML3AObnp0o9eliEgSKfhlVJH9e7j05DncvaqJV5o0lINIplDwy5iuet98KguDfPX+V4lGndfliEgSKPhlTCV5OXz1A0fw0vZ27lqx3etyRCQJFPwyrguWzOSkQyr45vINtHWFvC5HRA6Sgl/GZWb82wUL6Q6F+ebyDV6XIyIHScEvCZlfW8zlp87lNyubeHZTq9fliMhBUPBLwr74vsM4tLqQ6+55iY7eAa/LEZFJUvBLwvJy/Nx48RL2dIa4/oF1XpcjIpOk4JcJWVxfxpWnz+O+NTv44yu7vC5HRCZBwS8TduUZ8zh6Vilf+e0rbw/nUN8wBzNL+FHfMMfjrRDJXlMyOqdklhy/j5v+agkX/PBZPv/L1fx62ck0bd/GjY+8nvAyrj17QQorFJGxqMUvkzKvpohvXbSYNdva+fpDr3ldjohMgFr8MjrzYWZjzlJ2+me5g49QeORpU1OTiBw0Bb+MzkXH7b6JRh33rdlB9Jwrad7fR21J3hQVJyKTpa4eOSg+n3HuwhlEu9t54KWd7Nf5/SLTnoJfDlphMEDzPV8jEnXcv3YnfQMRr0sSkTEo+CUpwm1NfODoOtp7+3no5V2Eo1GvSxKRUSj4JWnqKwo464hamtp7Wf7qbo3fLzJNKfglqQ6vK+E986vY3NLNYxuacU7hLzLd6KweSbpjGsrpD0f585a95Pp9vPew6nFPCxWRqaPgl5Q4YW4FoUiUNdvaCQb8nHxopdcliUicgl9Swsw4dV4V/eEoL27dS27Ax3Fzyr0uS0RQ8EsKmRlnHF7DQDjKs2+0kuM3Fs0u87oskayn4JeU8plx9lEzGIju4snXW8jx+ziirsTrskSyms7qkZTz+4zzFs6gvjyfR19rZtOeTq9LEslqCn6ZEgG/j/MXzWRGaR7LX91N3iFLvS5JJGsp+GXK5AZ8XLB4JlVFQaov/Eee26ybtot4QcEvUyqY4+fCJbMId+zmijtWsnrbPq9LEsk6Cn6Zcvm5fvbc9VWqi4N8+vYXWbezw+uSRLKKgl88Eenexy+vOJGiYIBLb3uRN3TAV2TKKPjFM7PLC/jl507CzLjk1hfY1tbjdUkiWUHBL56aW1XIL644gVA4yidu/TO7O/q8Lkkk4yn4xXOHzyjhzs+ewL7ufi69/QXae/q9Lkkkoyn4ZVpYNLuMn1y2lK1tPXz6pyvoDoW9LkkkYyn4Zdo45dAqfvDxY3i5qZ3/+/NVhMK6haNIKqQs+M2s3syeNLP1ZrbOzK6OT68ws0fNbFP8WUM2ZiPzYWZ/8ThnYR17HryJZ99oZfZFX8V8fuob5nhdrUhGSeUgbWHg75xzq82sGFhlZo8CnwYed87dYGZfBr4MfCmFdch05KLc+Mjro769ets+nuHdnHDGefzh6vdMYWEimS9lwe+c2wXsiv/caWbrgVnABcBp8dnuAP6Egl+GObahnL6BCCu27qPsvZd5XY5IRpmSPn4zawSOAV4AauM7hcGdQ80on1lmZivNbGVLS8tUlCnTzMmHVHL0rFJKT/ooNz+12etyRDJGyoPfzIqAe4FrnHP7E/2cc+4W59xS59zS6urq1BUo05aZcdqCarpfe4ob/riBu17c5nVJIhkhpcFvZjnEQv+Xzrn74pObzawu/n4dsCeVNUh685nR+tBNvPewar7y21f44yu7vC5JJO2l8qweA24D1jvnbhzy1gPAYKftZcD9qapBMkQ0zM2fPI5jGsq5+q61PLtJwzmLHIxUtvjfBXwKOMPM1sYf5wE3AGeZ2SbgrPhrkTHl5/q5/bLjOaS6kGU/X8kaDecsMmkpC37n3LPOOXPOLXLOLYk//uCca3POnemcmx9/3puqGiSzlBbkcOdnT4gN5/zTFWxs1oieIpOhK3clrdSU5PGLy08kGPDxqdteYPtejegpMlEKfkk79RUF/PzyE+kbiPKp216gpTPkdUkiaUXBL2lpwYxibv/08TTvD3Hp7S/S0TvgdUkiaUPBL9PfKOP6LG2sYOsvvsJrTW0s+NxN+HLyNK6PSAJSOVaPSHKMM67PpuZO/uDP4fQblvPEdWdOYWEi6Uktfkl782uLee9h1Wxu6ab8jMu9Lkdk2lPwS0ZYUl/GMfVllCy9gNue3eJ1OSLTmoJfMsap86vofv1/+feHXtPQDiJjUPBLxjAz2h78T45tKOeaX69l1Vu6NlBkJAp+ySgu3M9PLl3KzLJ8rrhjJVtau70uSWTaUfBLZjEflUVBnv36x2ltaeHd//Q/+AtKRzwdVKd+SrbS6ZySWYac+rm7o497Vzdx/Ffv4yPHziLHf2A759qzF3hRoYjn1OKXjDWjNI9zFs5g9/4+Hl63m6hzXpckMi0o+CWjHVpd9PY5/s9oHH8RQF09kgWW1JfR0TvA2u3tlOQFOKah3OuSRDyl4JescOr8Kjr7Bnh6UyvFeTnMqynyuiQRz6irR7KCz4xzjprBjJI8lq/bza6OXq9LEvGMgl+yRsDv44OL6ygKBvj9S7sIlM3wuiQRTyj4JasU5Aa4YMlMHI6aj17P3u5+r0sSmXIKfsk65QW5fHDRTAIl1XzuzpX09Ie9LklkSin4JSvNLMun9fffYc22fSy7cxV9AxGvSxKZMgp+yVo9G5/jWxct5tk3Wvn8L1fTH456XZLIlFDwS1a76LjZfP3DC3liwx6u+tUaBiIKf8l8Cn7JepecOId/Pv9Ilq/brT5/yQoKfhHg8nfP5T8+cjRPb2zhk7e+QHuPzvaRzKXgF4n7+AkN/NcnjuXVHfu5+L+fZ1tbj9cliaSEgl9kiHOPruNnnzme3R19nP+DZ3h8fbPXJYkknYJfZJhT5lXx4BdOpb6igMvvWMm3H96gg76SURT8IiNoqCzg3r85hb9aWs9/PbmZ87//LCu36h6+khk0OqdkL/NhZuPOlj//JMLvW8ZFN3fysePrueZ9hzGjNG/Mz9Q3zKFp+7aEyphd38D2bW8lNK9IMij4JXsNuU3jePrDUW741re423cR965u4sPHzGLZew4ddXjnpu3bEl62bgEpU03BL5KA3ICP9j/9lJfv/SE/eeZNfr1iO79Z2cTSOeWcv6iOc4+uo7Zk7G8BItOFgl9kAuorCvjXCxZy9Znz+dWL23jw5V187fevcf2Dr3H4jBJOnFvB8Y0VBEprcc4l1JUkMtUU/CKTUFkU5Moz5nPlGfPZ1NzJ8ld388KWvfx6xXZ+9txWZv31bfz4qc1UFgapLMqlqihIRWEulYW5FOT6tUMQTyn4RQ7S/Npi5tcW8wVgIBJl3c79nPrBj3HGFV+lraufzS1drNu5/+358wI+KopyYzuFwlyC9UfT1hWisijo3UZIVlHwiyRRjt/Hkvoyul56mNMWfB8A5xw9/RHauvtp6wqxt7uftu5+Xm/upD8cZcYn/oPj/v0xKgtzmV9bxGG1xUMeRZQV5Hq8VZJpFPwiKWZmFAYDFAYDNFQUvD3dOUd3KMI3rvokP7jzHjY2d7KxuYv7Vu+gK/TOQHHVxUEOqy3ikKoiZpTmUVeax4zSPGaU5FFekEtRXoAc/8iX5Oi00ne8/buw+O/KjX1RXib/PhT8Ih4xM4ryAvRtXcMVpx7y9nTnHDs7+tjY3Mmm+M5gU3MnD7y0k47egRGXFQz4KM7LoSDXT8Bv5Ph8+H1G+LRrOOmIRZjFbjgfe4DfZ/h9RiA+n99nPHX3T7jp0Y3kBnwEAz4KgwEKcv0U5gbiOy4/BbkBioIBCoKx6X7f9DhWEY06WrtC7GjvZWd7Hzvbe9nZ0cvO9l5aOkN09oVxH/xX5pVVMxBxB3zWDPxm5OX4ycvxkRfwk5fjZ83Dv+Z7j22ipiRITXGQ6uIgNcV5VBXlEhhlR5suPAl+MzsH+B7gB251zt3gRR0iE5LgBV8HvRozZpXlM6ssn9MX1BzwXm9/hMOOOZHWrgH8xVX48grx5RZgwQJagwX4cvLB5wOfH/MFMJ+fHL+PaNQRjTrCzhF1jkjUEY7GngcfJUsv5HuPb5pQrdGBPlx/X/y5l2h/L26gL/Yc6ok99/dQnB/k69f/M8XBd3YixcEcCoN+ioIBivIC5Oe8c9DbOUfUxY6ZdPQOvPPoGWBPZygW7O293Lv8ScK5xQRKqjB/zoG1hXoId7YQ6WonGurChbo5/gMXkxvwYQbOxR/Etr9vIErfQIS+gQh7u/spOOJUbnps419ss3NRoj37iXTvI9K1l0j3Pgp8Eb72pS/GdxJ5VMd3FAU5fnzDdo4T+RYGqfnmMeXBb2Z+4L+As4AmYIWZPeCce22qaxGZkAlc8JWqi7Lyc/00vbZqQnV8eVni8/7nwxve3ikMRKIMRGLP/eHo26/7I1Hu+dE3OPfyfzhg2kB8ntjPsWn98c8C/PPvXh1z/YPfSiJRN+Z8EPvGMqMkj9DAAIsWzac4L4fiYIDi/ADFwRyK8wIEAwfuqK89ewHv+eLfJvS7iM1/Nt9avp6e/gg9oQjd/WG6Q2F6+iN0h8ro7p9FT3+Y7lCEzp4+/vXBkSMs4DNy/D5y/EZuwIc7/3oW1tThRthMhxv8YfAn3rzjHxKuOVFetPhPAN5wzr0JYGZ3ARcACn4Rj5kZAb8R8ENejn/U+X664nec9PVvJrRM5xx/f/5idre20xWKB2VogO5QhO5QmM5QLFC7Q2GcA5/F6vD7YrWU5OVQmh97lOTnUFMc63oJ+H2Yncm5lyW2Y5uMgM9HSZ6PkrycMee79uzDaevqY09nH3v2h2jpDNHSFaK3PxLfOb6zg7zluYeYvSDWtWe8s2Ma/mVy8OUbPftJNnMj7XZSyMwuAs5xzl0Rf/0p4ETn3JXD5lsGLIu/XABM9l+3Cmid5GenO21betK2pad03LY5zrnq4RO9aPGP1En6F3sf59wtwC0HvTKzlc65pQe7nOlI25aetG3pKZO2zYtD001A/ZDXs4GdHtQhIpKVvAj+FcB8M5trZrnAx4AHPKhDRCQrTXlXj3MubGZXAg8TO53zdufcuhSu8qC7i6YxbVt60ralp4zZtik/uCsiIt5K78vPRERkwhT8IiJZJmOC38zOMbPXzewNM/vyCO+bmX0//v7LZnasF3VORgLbdkl8m142s+fMbLEXdU7GeNs2ZL7jzSwSvw4kLSSybWZ2mpmtNbN1ZvbUVNc4WQn8TZaa2e/N7KX4tn3GizonysxuN7M9ZjbiZcbpnCMHcM6l/YPYQeLNwCFALvAScOSwec4D/kjsOoKTgBe8rjuJ23YKUB7/+dxM2rYh8z0B/AG4yOu6k/jvVkbsivWG+Osar+tO4rZ9Bfhm/OdqYC+Q63XtCWzbe4BjgVdHeT8tc2T4I1Na/G8PA+Gc6wcGh4EY6gLgThfzZ6DMzOqmutBJGHfbnHPPOef2xV/+mdi1EekgkX83gC8A9wJ7prK4g5TItn0CuM85tw3AOZcu25fItjmg2GKD5RQRC/4w05xz7mlitY4mXXPkAJkS/LOA7UNeN8WnTXSe6WiidV9OrEWSDsbdNjObBXwYuHkK60qGRP7dDgPKzexPZrbKzC6dsuoOTiLb9kPgCGIXZ74CXO3cOAPgp4d0zZEDZMp4/IkMA5HQUBHTUMJ1m9npxIL/3SmtKHkS2bbvAl9yzkXS7D61iWxbADgOOBPIB543sz875/5yLODpJZFtez+wFjgDOBR41Myecc4lf8SxqZWuOXKATAn+RIaBSNehIhKq28wWAbcC5zrn2qaotoOVyLYtBe6Kh34VcJ6ZhZ1zv5uSCicv0b/JVudcN9BtZk8Di4HpHvyJbNtngBtcrGP8DTPbAhwOvDg1JaZMuubIATKlqyeRYSAeAC6NH5U/Cehwzu2a6kInYdxtM7MG4D7gU2nQWhxq3G1zzs11zjU65xqBe4DPp0HoQ2J/k/cDp5pZwMwKgBOB9VNc52Qksm3biH2TwcxqiY2w++aUVpka6ZojB8iIFr8bZRgIM/vr+Ps3Ezsj5DzgDaCHWItk2ktw2/4fUAn8KN4yDrs0GEUwwW1LS4lsm3NuvZktB14GosTuRjf23UqmgQT/3f4N+JmZvUKse+RLzrlpP6Sxmf0KOA2oMrMm4F+AHEjvHBlOQzaIiGSZTOnqERGRBCn4RUSyjIJfRCTLKPhFRLKMgl9EZJoZb7C4YfPeFB/ob62ZbTSz9vE+o+CXjBUfzXOtmb1qZnfHz5VP5vL/ZGZjnjZrZtcMXa+Z/cHMypJZh2SknwHnJDKjc+6LzrklzrklwA+IXdMzJgW/ZLLe+H+IhUA/8Nce1HAN8HbwO+fOc861e1CHpJGRBoszs0PNbHl8XKdnzOzwET76ceBX4y1fwS/Z4hlgnplVmNnv4mOp/zk+1AVm9jUz+7mZPWFmm8zsc/Hpp5nZg4MLMbMfmtmnhy/czH5sZivjY89fH592FTATeNLMnoxP22pmVfGfr41/G3nVzK6JT2s0s/Vm9pP4sh4xs/yU/mYkXdwCfME5dxzw98CPhr5pZnOAucSGMB9TRly5KzIWMwsQu0/BcuB6YI1z7kIzOwO4E1gSn3URsTHWC4E1ZvbQBFbzT865vWbmBx43s0XOue+b2bXA6cOvWjWz44hd9XkisStbX7DYjVj2AfOBjzvnPmdmvwH+D/CLSW28ZAQzKyJ23427hwxWGBw228eAe5xzkfGWp+CXTJZvZmvjPz8D3Aa8QCxIcc49YWaVZlYan+d+51wv0BtvoZ8AtCe4rovNbBmx/1N1wJHEhmIYzbuB38YHaMPM7gNOJTYWzBbn3GDdq4DGBGuQzOUD2uP9+KP5GPC3iSxMwS+ZrHf4fxQbeWxnN+x56PQwB3aJ5g3/sJnNJfbV+3jn3D4z+9lI8w3/2BjvhYb8HCE2ZLNkMefcfjPbYmYfdc7dHf87XuScewnAzBYA5cDziSxPffySbZ4GLoFY/z2xYZEHx4i/wMzyzKyS2EBdK4C3gCPNLBj/ZnDmCMssAbqBjvhIlOcOea8TKB6ljgvNrMDMCondbOaZg9w2yRDxweKeBxaYWZOZXU7s7/ZyM3sJWMeBdz37OHCXS3DwNbX4Jdt8Dfipmb1MbHTFy4a89yLwENAA/JtzbidAvJ/9ZWATsGb4Ap1zL5nZGmL/Gd8E/nfI27cAfzSzXc6504d8ZnX8m8Hg+PS3OufWmFljMjZS0ptz7uOjvDXiKZ7Oua9NZPkanVOE2Fk9QJdz7jte1yKSaurqERHJMmrxi4hkGbX4RUSyjIJfRCTLKPhFRLKMgl9EJMso+EVEssz/B8u0XwlLdQYOAAAAAElFTkSuQmCC\n",
      "text/plain": [
       "<Figure size 432x288 with 1 Axes>"
      ]
     },
     "metadata": {
      "needs_background": "light"
     },
     "output_type": "display_data"
    }
   ],
   "source": [
    "sns.histplot((df2['Population'].astype(int)) , kde=True)\n",
    "plt.show()"
   ]
  },
  {
   "cell_type": "code",
   "execution_count": 26,
   "metadata": {},
   "outputs": [
    {
     "data": {
      "text/plain": [
       "<AxesSubplot:xlabel='private_Population', ylabel='Count'>"
      ]
     },
     "execution_count": 26,
     "metadata": {},
     "output_type": "execute_result"
    },
    {
     "data": {
      "image/png": "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\n",
      "text/plain": [
       "<Figure size 432x288 with 1 Axes>"
      ]
     },
     "metadata": {
      "needs_background": "light"
     },
     "output_type": "display_data"
    }
   ],
   "source": [
    "sns.histplot((df2['private_Population'].astype(float)), kde=True)"
   ]
  },
  {
   "cell_type": "code",
   "execution_count": 28,
   "metadata": {},
   "outputs": [],
   "source": [
    "xa = np.linspace(0,640,640)"
   ]
  },
  {
   "cell_type": "code",
   "execution_count": 29,
   "metadata": {},
   "outputs": [],
   "source": [
    "y1 = df2['Power_Parity_Above_Rs_545000'].astype(float)\n",
    "y2 = df2['private_Power_Parity_Above_Rs_545000'].astype(float)"
   ]
  },
  {
   "cell_type": "code",
   "execution_count": 80,
   "metadata": {},
   "outputs": [
    {
     "data": {
      "image/png": "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\n",
      "text/plain": [
       "<Figure size 432x288 with 1 Axes>"
      ]
     },
     "metadata": {
      "needs_background": "light"
     },
     "output_type": "display_data"
    }
   ],
   "source": [
    "i = 100\n",
    "plt.plot(xa[0:i],y1[0:i], color='g', label = \"Normal\")\n",
    "plt.plot(xa[0:i],y2[0:i], color='r', label = \"Private\")\n",
    "diff = y2-y1\n",
    "plt.plot(xa[0:i], diff[0:i], label = 'difference')\n",
    "plt.legend()\n",
    "plt.show()"
   ]
  },
  {
   "cell_type": "code",
   "execution_count": 81,
   "metadata": {},
   "outputs": [
    {
     "data": {
      "text/plain": [
       "[<matplotlib.lines.Line2D at 0x126495c70>]"
      ]
     },
     "execution_count": 81,
     "metadata": {},
     "output_type": "execute_result"
    },
    {
     "data": {
      "image/png": "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\n",
      "text/plain": [
       "<Figure size 432x288 with 1 Axes>"
      ]
     },
     "metadata": {
      "needs_background": "light"
     },
     "output_type": "display_data"
    }
   ],
   "source": [
    "diff = y2-y1\n",
    "plt.plot(xa[0:i], diff[0:i])"
   ]
  },
  {
   "cell_type": "code",
   "execution_count": 57,
   "metadata": {},
   "outputs": [],
   "source": [
    "normal_mean = []\n",
    "for x in df2.columns[0:115]:\n",
    "#     print(f'Mean of {x} is {np.mean(df2[x].astype(float))}')\n",
    "    normal_mean.append(np.mean(df2[x].astype(float)))"
   ]
  },
  {
   "cell_type": "code",
   "execution_count": 58,
   "metadata": {},
   "outputs": [],
   "source": [
    "private_mean = []\n",
    "for x in df2.columns[115:]:\n",
    "#     print(f'Mean of {x} is {np.mean(df2[x].astype(float))}')\n",
    "    private_mean.append(np.mean(df2[x].astype(float)))"
   ]
  },
  {
   "cell_type": "code",
   "execution_count": 79,
   "metadata": {},
   "outputs": [
    {
     "data": {
      "image/png": "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\n",
      "text/plain": [
       "<Figure size 432x288 with 1 Axes>"
      ]
     },
     "metadata": {
      "needs_background": "light"
     },
     "output_type": "display_data"
    }
   ],
   "source": [
    "i = 5\n",
    "xm = np.linspace(0,115,115)\n",
    "plt.plot(xa[0:i],normal_mean[0:i], color='g', label = \"Normal\")\n",
    "plt.plot(xa[0:i],private_mean[0:i], color='r', label = \"Private\")\n",
    "plt.legend()\n",
    "plt.show()"
   ]
  },
  {
   "cell_type": "code",
   "execution_count": 75,
   "metadata": {},
   "outputs": [],
   "source": [
    "df3 = df3.toPandas()`"
   ]
  },
  {
   "cell_type": "code",
   "execution_count": 77,
   "metadata": {},
   "outputs": [],
   "source": [
    "df3.to_csv('private.csv')"
   ]
  },
  {
   "cell_type": "markdown",
   "metadata": {},
   "source": [
    "# Thank You"
   ]
  }
 ],
 "metadata": {
  "kernelspec": {
   "display_name": "Python 3",
   "language": "python",
   "name": "python3"
  },
  "language_info": {
   "codemirror_mode": {
    "name": "ipython",
    "version": 3
   },
   "file_extension": ".py",
   "mimetype": "text/x-python",
   "name": "python",
   "nbconvert_exporter": "python",
   "pygments_lexer": "ipython3",
   "version": "3.8.5"
  }
 },
 "nbformat": 4,
 "nbformat_minor": 4
}
